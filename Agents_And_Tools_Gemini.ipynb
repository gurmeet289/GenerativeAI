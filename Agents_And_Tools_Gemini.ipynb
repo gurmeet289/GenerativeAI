{
  "nbformat": 4,
  "nbformat_minor": 0,
  "metadata": {
    "colab": {
      "provenance": []
    },
    "kernelspec": {
      "name": "python3",
      "display_name": "Python 3"
    },
    "language_info": {
      "name": "python"
    }
  },
  "cells": [
    {
      "cell_type": "markdown",
      "source": [
        "# Agents and Tools\n",
        "\n",
        "Agents involve an LLM making decisions about which Actions to take, taking that Action, seeing an Observation, and repeating that until done.\n",
        "\n",
        "\n",
        "When used correctly agents can be extremely powerful. In order to load agents, you should understand the following concepts:\n",
        "\n",
        "- Tool: A function that performs a specific duty. This can be things like: Google Search, Database lookup, Python REPL, other chains.\n",
        "- LLM: The language model powering the agent.\n",
        "- Agent: The agent to use.\n"
      ],
      "metadata": {
        "id": "cKIei5hNci1E"
      }
    },
    {
      "cell_type": "markdown",
      "source": [
        "For example I have to travel from Dubai to Canada, I type this in ChatGPT\n",
        "\n",
        "Give me two flight options from Dubai to Canada on September 1, 2024 | ChatGPT will not be able to answer because has knowledge till\n",
        "September 2021\n",
        "\n",
        "ChatGPT plus has Expedia Plugin, if we enable this plugin it will go to Expedia Plugin and will try to pull information about Flights & it will show the information"
      ],
      "metadata": {
        "id": "G4U4PWTkdPxX"
      }
    },
    {
      "cell_type": "markdown",
      "source": [
        "When we think about LLM. Many people think that it is just a knowledge engine, it has knowledge and it will try to give answer based on that knowledge but the knowledge is only limited to September 2021. The think that most people missout is that Large Lanaguage Model has a reasoning engine, and using that reasoning engine it can figure out when someone types this type of Question\n",
        "\n",
        "\n",
        "Give me  two flight options from Dubai to Canada on September 1, 2024\n",
        "\n",
        "\n",
        "As a human we go to Expedia as we have a reasoning engine in our brain.\n",
        "\n",
        "LLM has a reasoning engine as well, so it will figure out the Source, Destination, Date and it will call Expedia Plugin and it will return response back."
      ],
      "metadata": {
        "id": "ciLN5bFed6Xx"
      }
    },
    {
      "cell_type": "markdown",
      "source": [
        "#**How much is US GDP in 2024? plus 5**\n"
      ],
      "metadata": {
        "id": "43YM_ip-eYhu"
      }
    },
    {
      "cell_type": "markdown",
      "source": [
        "# Agent will conenct with external tools and it will use LLM reasoning capabilities"
      ],
      "metadata": {
        "id": "iD2IcVHEelhs"
      }
    },
    {
      "cell_type": "markdown",
      "source": [
        "# To access Google Search Results in Real Time we use serpapi"
      ],
      "metadata": {
        "id": "GemVEsOWetK3"
      }
    },
    {
      "cell_type": "markdown",
      "source": [
        "# serpapi and llm-math tool"
      ],
      "metadata": {
        "id": "9vNfiY0BezFn"
      }
    },
    {
      "cell_type": "code",
      "source": [
        "!pip install google-search-results"
      ],
      "metadata": {
        "colab": {
          "base_uri": "https://localhost:8080/"
        },
        "id": "SPbtEBhAclBj",
        "outputId": "aaad64e1-5ec7-4427-a2f6-1ae2cd15695f"
      },
      "execution_count": null,
      "outputs": [
        {
          "output_type": "stream",
          "name": "stdout",
          "text": [
            "Collecting google-search-results\n",
            "  Downloading google_search_results-2.4.2.tar.gz (18 kB)\n",
            "  Preparing metadata (setup.py) ... \u001b[?25l\u001b[?25hdone\n",
            "Requirement already satisfied: requests in /usr/local/lib/python3.10/dist-packages (from google-search-results) (2.31.0)\n",
            "Requirement already satisfied: charset-normalizer<4,>=2 in /usr/local/lib/python3.10/dist-packages (from requests->google-search-results) (3.3.2)\n",
            "Requirement already satisfied: idna<4,>=2.5 in /usr/local/lib/python3.10/dist-packages (from requests->google-search-results) (3.7)\n",
            "Requirement already satisfied: urllib3<3,>=1.21.1 in /usr/local/lib/python3.10/dist-packages (from requests->google-search-results) (2.0.7)\n",
            "Requirement already satisfied: certifi>=2017.4.17 in /usr/local/lib/python3.10/dist-packages (from requests->google-search-results) (2024.6.2)\n",
            "Building wheels for collected packages: google-search-results\n",
            "  Building wheel for google-search-results (setup.py) ... \u001b[?25l\u001b[?25hdone\n",
            "  Created wheel for google-search-results: filename=google_search_results-2.4.2-py3-none-any.whl size=32004 sha256=da43d692eddc939def3221af0c7c328670a3ac0638396d7a4e14911995c9a830\n",
            "  Stored in directory: /root/.cache/pip/wheels/d3/b2/c3/03302d12bb44a2cdff3c9371f31b72c0c4e84b8d2285eeac53\n",
            "Successfully built google-search-results\n",
            "Installing collected packages: google-search-results\n",
            "Successfully installed google-search-results-2.4.2\n"
          ]
        }
      ]
    },
    {
      "cell_type": "code",
      "source": [
        "!pip install langchain"
      ],
      "metadata": {
        "colab": {
          "base_uri": "https://localhost:8080/"
        },
        "id": "VBQywOfvg0yE",
        "outputId": "f9d7619b-8cdb-49d0-d55a-3056241b46fa"
      },
      "execution_count": null,
      "outputs": [
        {
          "output_type": "stream",
          "name": "stdout",
          "text": [
            "Collecting langchain\n",
            "  Downloading langchain-0.2.6-py3-none-any.whl (975 kB)\n",
            "\u001b[2K     \u001b[90m━━━━━━━━━━━━━━━━━━━━━━━━━━━━━━━━━━━━━━━━\u001b[0m \u001b[32m975.5/975.5 kB\u001b[0m \u001b[31m8.4 MB/s\u001b[0m eta \u001b[36m0:00:00\u001b[0m\n",
            "\u001b[?25hRequirement already satisfied: PyYAML>=5.3 in /usr/local/lib/python3.10/dist-packages (from langchain) (6.0.1)\n",
            "Requirement already satisfied: SQLAlchemy<3,>=1.4 in /usr/local/lib/python3.10/dist-packages (from langchain) (2.0.31)\n",
            "Requirement already satisfied: aiohttp<4.0.0,>=3.8.3 in /usr/local/lib/python3.10/dist-packages (from langchain) (3.9.5)\n",
            "Requirement already satisfied: async-timeout<5.0.0,>=4.0.0 in /usr/local/lib/python3.10/dist-packages (from langchain) (4.0.3)\n",
            "Collecting langchain-core<0.3.0,>=0.2.10 (from langchain)\n",
            "  Downloading langchain_core-0.2.11-py3-none-any.whl (337 kB)\n",
            "\u001b[2K     \u001b[90m━━━━━━━━━━━━━━━━━━━━━━━━━━━━━━━━━━━━━━━━\u001b[0m \u001b[32m337.4/337.4 kB\u001b[0m \u001b[31m10.9 MB/s\u001b[0m eta \u001b[36m0:00:00\u001b[0m\n",
            "\u001b[?25hCollecting langchain-text-splitters<0.3.0,>=0.2.0 (from langchain)\n",
            "  Downloading langchain_text_splitters-0.2.2-py3-none-any.whl (25 kB)\n",
            "Collecting langsmith<0.2.0,>=0.1.17 (from langchain)\n",
            "  Downloading langsmith-0.1.83-py3-none-any.whl (127 kB)\n",
            "\u001b[2K     \u001b[90m━━━━━━━━━━━━━━━━━━━━━━━━━━━━━━━━━━━━━━━━\u001b[0m \u001b[32m127.5/127.5 kB\u001b[0m \u001b[31m8.2 MB/s\u001b[0m eta \u001b[36m0:00:00\u001b[0m\n",
            "\u001b[?25hRequirement already satisfied: numpy<2,>=1 in /usr/local/lib/python3.10/dist-packages (from langchain) (1.25.2)\n",
            "Requirement already satisfied: pydantic<3,>=1 in /usr/local/lib/python3.10/dist-packages (from langchain) (2.8.0)\n",
            "Requirement already satisfied: requests<3,>=2 in /usr/local/lib/python3.10/dist-packages (from langchain) (2.31.0)\n",
            "Requirement already satisfied: tenacity!=8.4.0,<9.0.0,>=8.1.0 in /usr/local/lib/python3.10/dist-packages (from langchain) (8.4.2)\n",
            "Requirement already satisfied: aiosignal>=1.1.2 in /usr/local/lib/python3.10/dist-packages (from aiohttp<4.0.0,>=3.8.3->langchain) (1.3.1)\n",
            "Requirement already satisfied: attrs>=17.3.0 in /usr/local/lib/python3.10/dist-packages (from aiohttp<4.0.0,>=3.8.3->langchain) (23.2.0)\n",
            "Requirement already satisfied: frozenlist>=1.1.1 in /usr/local/lib/python3.10/dist-packages (from aiohttp<4.0.0,>=3.8.3->langchain) (1.4.1)\n",
            "Requirement already satisfied: multidict<7.0,>=4.5 in /usr/local/lib/python3.10/dist-packages (from aiohttp<4.0.0,>=3.8.3->langchain) (6.0.5)\n",
            "Requirement already satisfied: yarl<2.0,>=1.0 in /usr/local/lib/python3.10/dist-packages (from aiohttp<4.0.0,>=3.8.3->langchain) (1.9.4)\n",
            "Collecting jsonpatch<2.0,>=1.33 (from langchain-core<0.3.0,>=0.2.10->langchain)\n",
            "  Downloading jsonpatch-1.33-py2.py3-none-any.whl (12 kB)\n",
            "Requirement already satisfied: packaging<25,>=23.2 in /usr/local/lib/python3.10/dist-packages (from langchain-core<0.3.0,>=0.2.10->langchain) (24.1)\n",
            "Collecting orjson<4.0.0,>=3.9.14 (from langsmith<0.2.0,>=0.1.17->langchain)\n",
            "  Downloading orjson-3.10.6-cp310-cp310-manylinux_2_17_x86_64.manylinux2014_x86_64.whl (141 kB)\n",
            "\u001b[2K     \u001b[90m━━━━━━━━━━━━━━━━━━━━━━━━━━━━━━━━━━━━━━━━\u001b[0m \u001b[32m141.1/141.1 kB\u001b[0m \u001b[31m14.5 MB/s\u001b[0m eta \u001b[36m0:00:00\u001b[0m\n",
            "\u001b[?25hRequirement already satisfied: annotated-types>=0.4.0 in /usr/local/lib/python3.10/dist-packages (from pydantic<3,>=1->langchain) (0.7.0)\n",
            "Requirement already satisfied: pydantic-core==2.20.0 in /usr/local/lib/python3.10/dist-packages (from pydantic<3,>=1->langchain) (2.20.0)\n",
            "Requirement already satisfied: typing-extensions>=4.6.1 in /usr/local/lib/python3.10/dist-packages (from pydantic<3,>=1->langchain) (4.12.2)\n",
            "Requirement already satisfied: charset-normalizer<4,>=2 in /usr/local/lib/python3.10/dist-packages (from requests<3,>=2->langchain) (3.3.2)\n",
            "Requirement already satisfied: idna<4,>=2.5 in /usr/local/lib/python3.10/dist-packages (from requests<3,>=2->langchain) (3.7)\n",
            "Requirement already satisfied: urllib3<3,>=1.21.1 in /usr/local/lib/python3.10/dist-packages (from requests<3,>=2->langchain) (2.0.7)\n",
            "Requirement already satisfied: certifi>=2017.4.17 in /usr/local/lib/python3.10/dist-packages (from requests<3,>=2->langchain) (2024.6.2)\n",
            "Requirement already satisfied: greenlet!=0.4.17 in /usr/local/lib/python3.10/dist-packages (from SQLAlchemy<3,>=1.4->langchain) (3.0.3)\n",
            "Collecting jsonpointer>=1.9 (from jsonpatch<2.0,>=1.33->langchain-core<0.3.0,>=0.2.10->langchain)\n",
            "  Downloading jsonpointer-3.0.0-py2.py3-none-any.whl (7.6 kB)\n",
            "Installing collected packages: orjson, jsonpointer, jsonpatch, langsmith, langchain-core, langchain-text-splitters, langchain\n",
            "Successfully installed jsonpatch-1.33 jsonpointer-3.0.0 langchain-0.2.6 langchain-core-0.2.11 langchain-text-splitters-0.2.2 langsmith-0.1.83 orjson-3.10.6\n"
          ]
        }
      ]
    },
    {
      "cell_type": "code",
      "source": [
        "!pip install -U langchain-community"
      ],
      "metadata": {
        "colab": {
          "base_uri": "https://localhost:8080/"
        },
        "id": "M9ypcZ15hFGS",
        "outputId": "510a1ac9-0611-4db4-e7ab-d6b5c3bb4d6d"
      },
      "execution_count": null,
      "outputs": [
        {
          "output_type": "stream",
          "name": "stdout",
          "text": [
            "Collecting langchain-community\n",
            "  Downloading langchain_community-0.2.6-py3-none-any.whl (2.2 MB)\n",
            "\u001b[2K     \u001b[90m━━━━━━━━━━━━━━━━━━━━━━━━━━━━━━━━━━━━━━━━\u001b[0m \u001b[32m2.2/2.2 MB\u001b[0m \u001b[31m8.8 MB/s\u001b[0m eta \u001b[36m0:00:00\u001b[0m\n",
            "\u001b[?25hRequirement already satisfied: PyYAML>=5.3 in /usr/local/lib/python3.10/dist-packages (from langchain-community) (6.0.1)\n",
            "Requirement already satisfied: SQLAlchemy<3,>=1.4 in /usr/local/lib/python3.10/dist-packages (from langchain-community) (2.0.31)\n",
            "Requirement already satisfied: aiohttp<4.0.0,>=3.8.3 in /usr/local/lib/python3.10/dist-packages (from langchain-community) (3.9.5)\n",
            "Collecting dataclasses-json<0.7,>=0.5.7 (from langchain-community)\n",
            "  Downloading dataclasses_json-0.6.7-py3-none-any.whl (28 kB)\n",
            "Requirement already satisfied: langchain<0.3.0,>=0.2.6 in /usr/local/lib/python3.10/dist-packages (from langchain-community) (0.2.6)\n",
            "Requirement already satisfied: langchain-core<0.3.0,>=0.2.10 in /usr/local/lib/python3.10/dist-packages (from langchain-community) (0.2.11)\n",
            "Requirement already satisfied: langsmith<0.2.0,>=0.1.0 in /usr/local/lib/python3.10/dist-packages (from langchain-community) (0.1.83)\n",
            "Requirement already satisfied: numpy<2,>=1 in /usr/local/lib/python3.10/dist-packages (from langchain-community) (1.25.2)\n",
            "Requirement already satisfied: requests<3,>=2 in /usr/local/lib/python3.10/dist-packages (from langchain-community) (2.31.0)\n",
            "Requirement already satisfied: tenacity!=8.4.0,<9.0.0,>=8.1.0 in /usr/local/lib/python3.10/dist-packages (from langchain-community) (8.4.2)\n",
            "Requirement already satisfied: aiosignal>=1.1.2 in /usr/local/lib/python3.10/dist-packages (from aiohttp<4.0.0,>=3.8.3->langchain-community) (1.3.1)\n",
            "Requirement already satisfied: attrs>=17.3.0 in /usr/local/lib/python3.10/dist-packages (from aiohttp<4.0.0,>=3.8.3->langchain-community) (23.2.0)\n",
            "Requirement already satisfied: frozenlist>=1.1.1 in /usr/local/lib/python3.10/dist-packages (from aiohttp<4.0.0,>=3.8.3->langchain-community) (1.4.1)\n",
            "Requirement already satisfied: multidict<7.0,>=4.5 in /usr/local/lib/python3.10/dist-packages (from aiohttp<4.0.0,>=3.8.3->langchain-community) (6.0.5)\n",
            "Requirement already satisfied: yarl<2.0,>=1.0 in /usr/local/lib/python3.10/dist-packages (from aiohttp<4.0.0,>=3.8.3->langchain-community) (1.9.4)\n",
            "Requirement already satisfied: async-timeout<5.0,>=4.0 in /usr/local/lib/python3.10/dist-packages (from aiohttp<4.0.0,>=3.8.3->langchain-community) (4.0.3)\n",
            "Collecting marshmallow<4.0.0,>=3.18.0 (from dataclasses-json<0.7,>=0.5.7->langchain-community)\n",
            "  Downloading marshmallow-3.21.3-py3-none-any.whl (49 kB)\n",
            "\u001b[2K     \u001b[90m━━━━━━━━━━━━━━━━━━━━━━━━━━━━━━━━━━━━━━━━\u001b[0m \u001b[32m49.2/49.2 kB\u001b[0m \u001b[31m5.5 MB/s\u001b[0m eta \u001b[36m0:00:00\u001b[0m\n",
            "\u001b[?25hCollecting typing-inspect<1,>=0.4.0 (from dataclasses-json<0.7,>=0.5.7->langchain-community)\n",
            "  Downloading typing_inspect-0.9.0-py3-none-any.whl (8.8 kB)\n",
            "Requirement already satisfied: langchain-text-splitters<0.3.0,>=0.2.0 in /usr/local/lib/python3.10/dist-packages (from langchain<0.3.0,>=0.2.6->langchain-community) (0.2.2)\n",
            "Requirement already satisfied: pydantic<3,>=1 in /usr/local/lib/python3.10/dist-packages (from langchain<0.3.0,>=0.2.6->langchain-community) (2.8.0)\n",
            "Requirement already satisfied: jsonpatch<2.0,>=1.33 in /usr/local/lib/python3.10/dist-packages (from langchain-core<0.3.0,>=0.2.10->langchain-community) (1.33)\n",
            "Requirement already satisfied: packaging<25,>=23.2 in /usr/local/lib/python3.10/dist-packages (from langchain-core<0.3.0,>=0.2.10->langchain-community) (24.1)\n",
            "Requirement already satisfied: orjson<4.0.0,>=3.9.14 in /usr/local/lib/python3.10/dist-packages (from langsmith<0.2.0,>=0.1.0->langchain-community) (3.10.6)\n",
            "Requirement already satisfied: charset-normalizer<4,>=2 in /usr/local/lib/python3.10/dist-packages (from requests<3,>=2->langchain-community) (3.3.2)\n",
            "Requirement already satisfied: idna<4,>=2.5 in /usr/local/lib/python3.10/dist-packages (from requests<3,>=2->langchain-community) (3.7)\n",
            "Requirement already satisfied: urllib3<3,>=1.21.1 in /usr/local/lib/python3.10/dist-packages (from requests<3,>=2->langchain-community) (2.0.7)\n",
            "Requirement already satisfied: certifi>=2017.4.17 in /usr/local/lib/python3.10/dist-packages (from requests<3,>=2->langchain-community) (2024.6.2)\n",
            "Requirement already satisfied: typing-extensions>=4.6.0 in /usr/local/lib/python3.10/dist-packages (from SQLAlchemy<3,>=1.4->langchain-community) (4.12.2)\n",
            "Requirement already satisfied: greenlet!=0.4.17 in /usr/local/lib/python3.10/dist-packages (from SQLAlchemy<3,>=1.4->langchain-community) (3.0.3)\n",
            "Requirement already satisfied: jsonpointer>=1.9 in /usr/local/lib/python3.10/dist-packages (from jsonpatch<2.0,>=1.33->langchain-core<0.3.0,>=0.2.10->langchain-community) (3.0.0)\n",
            "Requirement already satisfied: annotated-types>=0.4.0 in /usr/local/lib/python3.10/dist-packages (from pydantic<3,>=1->langchain<0.3.0,>=0.2.6->langchain-community) (0.7.0)\n",
            "Requirement already satisfied: pydantic-core==2.20.0 in /usr/local/lib/python3.10/dist-packages (from pydantic<3,>=1->langchain<0.3.0,>=0.2.6->langchain-community) (2.20.0)\n",
            "Collecting mypy-extensions>=0.3.0 (from typing-inspect<1,>=0.4.0->dataclasses-json<0.7,>=0.5.7->langchain-community)\n",
            "  Downloading mypy_extensions-1.0.0-py3-none-any.whl (4.7 kB)\n",
            "Installing collected packages: mypy-extensions, marshmallow, typing-inspect, dataclasses-json, langchain-community\n",
            "Successfully installed dataclasses-json-0.6.7 langchain-community-0.2.6 marshmallow-3.21.3 mypy-extensions-1.0.0 typing-inspect-0.9.0\n"
          ]
        }
      ]
    },
    {
      "cell_type": "code",
      "source": [
        "%pip install -qU langchain-openai"
      ],
      "metadata": {
        "colab": {
          "base_uri": "https://localhost:8080/"
        },
        "id": "MJzCkEgRhX0N",
        "outputId": "55b5d11b-de19-4ccb-9946-1815824ebc3e"
      },
      "execution_count": null,
      "outputs": [
        {
          "output_type": "stream",
          "name": "stdout",
          "text": [
            "\u001b[?25l     \u001b[90m━━━━━━━━━━━━━━━━━━━━━━━━━━━━━━━━━━━━━━━━\u001b[0m \u001b[32m0.0/45.9 kB\u001b[0m \u001b[31m?\u001b[0m eta \u001b[36m-:--:--\u001b[0m\r\u001b[2K     \u001b[90m━━━━━━━━━━━━━━━━━━━━━━━━━━━━━━━━━━━━━━━━\u001b[0m \u001b[32m45.9/45.9 kB\u001b[0m \u001b[31m1.7 MB/s\u001b[0m eta \u001b[36m0:00:00\u001b[0m\n",
            "\u001b[2K     \u001b[90m━━━━━━━━━━━━━━━━━━━━━━━━━━━━━━━━━━━━━━━━\u001b[0m \u001b[32m328.3/328.3 kB\u001b[0m \u001b[31m6.1 MB/s\u001b[0m eta \u001b[36m0:00:00\u001b[0m\n",
            "\u001b[2K     \u001b[90m━━━━━━━━━━━━━━━━━━━━━━━━━━━━━━━━━━━━━━━━\u001b[0m \u001b[32m1.1/1.1 MB\u001b[0m \u001b[31m8.0 MB/s\u001b[0m eta \u001b[36m0:00:00\u001b[0m\n",
            "\u001b[2K     \u001b[90m━━━━━━━━━━━━━━━━━━━━━━━━━━━━━━━━━━━━━━━━\u001b[0m \u001b[32m75.6/75.6 kB\u001b[0m \u001b[31m5.1 MB/s\u001b[0m eta \u001b[36m0:00:00\u001b[0m\n",
            "\u001b[2K     \u001b[90m━━━━━━━━━━━━━━━━━━━━━━━━━━━━━━━━━━━━━━━━\u001b[0m \u001b[32m77.9/77.9 kB\u001b[0m \u001b[31m7.5 MB/s\u001b[0m eta \u001b[36m0:00:00\u001b[0m\n",
            "\u001b[2K     \u001b[90m━━━━━━━━━━━━━━━━━━━━━━━━━━━━━━━━━━━━━━━━\u001b[0m \u001b[32m58.3/58.3 kB\u001b[0m \u001b[31m5.0 MB/s\u001b[0m eta \u001b[36m0:00:00\u001b[0m\n",
            "\u001b[?25h"
          ]
        }
      ]
    },
    {
      "cell_type": "code",
      "source": [
        "import os"
      ],
      "metadata": {
        "id": "GgLJxty_fFXI"
      },
      "execution_count": null,
      "outputs": []
    },
    {
      "cell_type": "code",
      "source": [
        "from google.colab import userdata\n",
        "SERPAPI_API_KEY=userdata.get('SERPAPI_API_KEY')\n",
        "GOOGLE_API_KEY=userdata.get('GOOGLE_API_KEY')"
      ],
      "metadata": {
        "id": "vmVkwkm6mV3P"
      },
      "execution_count": null,
      "outputs": []
    },
    {
      "cell_type": "code",
      "source": [
        "os.environ[\"SERPAPI_API_KEY\"]=SERPAPI_API_KEY"
      ],
      "metadata": {
        "id": "FAq1ZjvRfNKQ"
      },
      "execution_count": null,
      "outputs": []
    },
    {
      "cell_type": "code",
      "source": [
        "os.environ[\"GOOGLE_API_KEY\"]=GOOGLE_API_KEY"
      ],
      "metadata": {
        "id": "foyRFOpefQ-r"
      },
      "execution_count": null,
      "outputs": []
    },
    {
      "cell_type": "code",
      "source": [
        "%pip install --upgrade --quiet  langchain-google-genai"
      ],
      "metadata": {
        "colab": {
          "base_uri": "https://localhost:8080/"
        },
        "id": "-s-48WvcTmnA",
        "outputId": "1fc7baf9-4277-4986-fa0a-4842474c869d"
      },
      "execution_count": null,
      "outputs": [
        {
          "output_type": "stream",
          "name": "stdout",
          "text": [
            "\u001b[2K     \u001b[90m━━━━━━━━━━━━━━━━━━━━━━━━━━━━━━━━━━━━━━━━\u001b[0m \u001b[32m163.9/163.9 kB\u001b[0m \u001b[31m5.2 MB/s\u001b[0m eta \u001b[36m0:00:00\u001b[0m\n",
            "\u001b[2K     \u001b[90m━━━━━━━━━━━━━━━━━━━━━━━━━━━━━━━━━━━━━━━━\u001b[0m \u001b[32m718.3/718.3 kB\u001b[0m \u001b[31m9.6 MB/s\u001b[0m eta \u001b[36m0:00:00\u001b[0m\n",
            "\u001b[?25h"
          ]
        }
      ]
    },
    {
      "cell_type": "code",
      "source": [
        "from langchain_google_genai import ChatGoogleGenerativeAI"
      ],
      "metadata": {
        "id": "e3zbfS9bDOWg"
      },
      "execution_count": null,
      "outputs": []
    },
    {
      "cell_type": "markdown",
      "source": [
        "## To check if the gemini is working or not.\n",
        "\n",
        "llm = ChatGoogleGenerativeAI(model=\"gemini-1.5-pro\")\n",
        "result = llm.invoke(\"Write a ballad about LangChain\")\n",
        "print(result.content)"
      ],
      "metadata": {
        "id": "bD7Ru2GcT6sZ"
      }
    },
    {
      "cell_type": "code",
      "source": [
        "llm = ChatGoogleGenerativeAI(model=\"gemini-1.5-pro\")"
      ],
      "metadata": {
        "id": "TGp5o8U4TvOu"
      },
      "execution_count": null,
      "outputs": []
    },
    {
      "cell_type": "code",
      "source": [
        "from langchain.agents import AgentType,initialize_agent, load_tools"
      ],
      "metadata": {
        "id": "fjTgzatZfwKp"
      },
      "execution_count": null,
      "outputs": []
    },
    {
      "cell_type": "code",
      "source": [
        "from langchain_openai import ChatOpenAI"
      ],
      "metadata": {
        "id": "nwC9xx0hhclz"
      },
      "execution_count": null,
      "outputs": []
    },
    {
      "cell_type": "markdown",
      "source": [
        "## If you want to use OpenAI\n",
        "\n",
        "llm = ChatOpenAI(\n",
        "    model=\"gpt-3.5-turbo\",\n",
        "    temperature=0)"
      ],
      "metadata": {
        "id": "t7SpxpgxUU5P"
      }
    },
    {
      "cell_type": "code",
      "source": [
        "tool = load_tools([\"serpapi\",\"llm-math\"],llm=llm)"
      ],
      "metadata": {
        "id": "sSL8xs1Fh116"
      },
      "execution_count": null,
      "outputs": []
    },
    {
      "cell_type": "code",
      "source": [
        "agent1 = initialize_agent(tool, llm, agent= AgentType.ZERO_SHOT_REACT_DESCRIPTION, verbose= True)"
      ],
      "metadata": {
        "id": "lmzM85ifitRa",
        "colab": {
          "base_uri": "https://localhost:8080/"
        },
        "outputId": "6818fb3b-4153-46e6-f3be-1d015374f936"
      },
      "execution_count": null,
      "outputs": [
        {
          "output_type": "stream",
          "name": "stderr",
          "text": [
            "/usr/local/lib/python3.10/dist-packages/langchain_core/_api/deprecation.py:139: LangChainDeprecationWarning: The function `initialize_agent` was deprecated in LangChain 0.1.0 and will be removed in 0.3.0. Use Use new agent constructor methods like create_react_agent, create_json_agent, create_structured_chat_agent, etc. instead.\n",
            "  warn_deprecated(\n"
          ]
        }
      ]
    },
    {
      "cell_type": "code",
      "source": [
        "agent1.run(\"How much is US GDP in 2024 plus 5?\")"
      ],
      "metadata": {
        "colab": {
          "base_uri": "https://localhost:8080/",
          "height": 564
        },
        "id": "qIOmEBh1jVwL",
        "outputId": "f51a6ee4-80d1-4cc2-edae-234b478cbc4a"
      },
      "execution_count": null,
      "outputs": [
        {
          "output_type": "stream",
          "name": "stderr",
          "text": [
            "/usr/local/lib/python3.10/dist-packages/langchain_core/_api/deprecation.py:139: LangChainDeprecationWarning: The method `Chain.run` was deprecated in langchain 0.1.0 and will be removed in 0.3.0. Use invoke instead.\n",
            "  warn_deprecated(\n"
          ]
        },
        {
          "output_type": "stream",
          "name": "stdout",
          "text": [
            "\n",
            "\n",
            "\u001b[1m> Entering new AgentExecutor chain...\u001b[0m\n",
            "\u001b[32;1m\u001b[1;3mThought: I need to search what the US GDP is projected to be in 2024 and then add 5 to that number.\n",
            "Action: Search\n",
            "Action Input: US GDP projection 2024\u001b[0m\n",
            "Observation: \u001b[36;1m\u001b[1;3mFrom 2024 through 2028, GDP will increase at an average annual rate of 2.2% per year, 0.5 percentage points higher than the baseline forecast. This scenario also results in higher long-term potential for the economy at 2.3%, compared to 1.7% in the baseline.\u001b[0m\n",
            "Thought:\u001b[32;1m\u001b[1;3mThought: I need to find the actual GDP number for 2024 from that information, I can't calculate it with what I have.\n",
            "Action: Search\n",
            "Action Input: US GDP 2024\u001b[0m\n",
            "Observation: \u001b[36;1m\u001b[1;3mReal gross domestic product (GDP) increased at an annual rate of 1.3 percent in the first quarter of 2024 (table 1), according to the \"second\" estimate released by the Bureau of Economic Analysis. In the fourth quarter of 2023, real GDP increased 3.4 percent.\u001b[0m\n",
            "Thought:\u001b[32;1m\u001b[1;3mThought: I need to find the projected GDP for 2024, not the current rate. \n",
            "Action: Search\n",
            "Action Input: Projected US GDP 2024 in dollars\u001b[0m\n",
            "Observation: \u001b[36;1m\u001b[1;3m['Forecast of the gross domestic product of the United States from fiscal year 2024 to fiscal year 2034 (in billion U.S. dollars) · 28,176.6 · 29,256.38 · 30,503.55 ...', 'While we do not forecast a recession in 2024, we do expect consumer spending growth to cool further and for overall GDP growth to slow to under 1% over the Q2 ...', 'Real gross domestic product (GDP) increased at an annual rate of 1.3 percent in the first quarter of 2024 (table 1), according to the ...', 'Current‑dollar GDP increased 4.8 percent at an annual rate, or $327.5 billion, in the first quarter to a level of $28.28 trillion. In the ...', 'From 2024 through 2028, GDP will increase at an average annual rate of 2.2% per year, 0.5 percentage points higher than the baseline forecast.', \"Billions of U.S. dollars · China, People's Republic of. 18.53 thousand · United States. 28.78 thousand.\", 'Federal outlays in 2024 total $6.5 trillion, which amounts to 23.1 percent of GDP. They stay close to that level through 2028 and then increase, ...', 'Economic growth is projected to slow from 3.1 percent in calendar year 2023 to 2.0 percent in 2024 amid higher unemployment and slightly lower ...', 'Global growth is projected to stay at 3.1 percent in 2024 and rise to 3.2 percent in 2025. Elevated central bank rates to fight inflation ...']\u001b[0m\n",
            "Thought:"
          ]
        },
        {
          "output_type": "stream",
          "name": "stderr",
          "text": [
            "WARNING:langchain_google_genai.chat_models:Retrying langchain_google_genai.chat_models._chat_with_retry.<locals>._chat_with_retry in 2.0 seconds as it raised ResourceExhausted: 429 Resource has been exhausted (e.g. check quota)..\n"
          ]
        },
        {
          "output_type": "stream",
          "name": "stdout",
          "text": [
            "\u001b[32;1m\u001b[1;3mThought: The top result gives a forecast in billions of US dollars. I can use that.\n",
            "Action: Calculator\n",
            "Action Input: 28176.6 + 5 \u001b[0m"
          ]
        },
        {
          "output_type": "stream",
          "name": "stderr",
          "text": [
            "WARNING:langchain_google_genai.chat_models:Retrying langchain_google_genai.chat_models._chat_with_retry.<locals>._chat_with_retry in 2.0 seconds as it raised ResourceExhausted: 429 Resource has been exhausted (e.g. check quota)..\n"
          ]
        },
        {
          "output_type": "stream",
          "name": "stdout",
          "text": [
            "\n",
            "Observation: \u001b[33;1m\u001b[1;3mAnswer: 28181.6\u001b[0m\n",
            "Thought:\u001b[32;1m\u001b[1;3mThought: I now know the final answer\n",
            "Final Answer: The projected US GDP in 2024 plus 5 is $28,181.6 billion. \n",
            "\u001b[0m\n",
            "\n",
            "\u001b[1m> Finished chain.\u001b[0m\n"
          ]
        },
        {
          "output_type": "execute_result",
          "data": {
            "text/plain": [
              "'The projected US GDP in 2024 plus 5 is $28,181.6 billion.'"
            ],
            "application/vnd.google.colaboratory.intrinsic+json": {
              "type": "string"
            }
          },
          "metadata": {},
          "execution_count": 16
        }
      ]
    },
    {
      "cell_type": "code",
      "source": [
        "agent1.run(\"in which year indian team won its second world cup give me all the player name of the winning team??\")"
      ],
      "metadata": {
        "colab": {
          "base_uri": "https://localhost:8080/",
          "height": 364
        },
        "id": "ETm7HdAgmwKM",
        "outputId": "b74baf8d-e2e4-437a-c171-b655356b1313"
      },
      "execution_count": null,
      "outputs": [
        {
          "output_type": "stream",
          "name": "stdout",
          "text": [
            "\n",
            "\n",
            "\u001b[1m> Entering new AgentExecutor chain...\u001b[0m\n",
            "\u001b[32;1m\u001b[1;3mThought: I need to search for information about the Indian cricket team's second world cup victory.\n",
            "Action: Search\n",
            "Action Input: indian cricket team second world cup year and team players \u001b[0m\n",
            "Observation: \u001b[36;1m\u001b[1;3m[\"The Indian team was led by Srinivas Venkataraghavan for the second consecutive world cup. India's first match was against reigning world champions West ...\", 'Checkout team and player detaills of India Squad - ICC Cricket World Cup, 2011 Squad details on ESPNcricinfo.com.', 'India was the second team (after the West Indies) to win the World Cup, and the first to win the competition on home soil after winning it in 2011. India are ...', 'Indian players in the team of the T20 World Cup 2024: ; Rohit Sharma (Runs: 257, Average: 36.71, Strike-rate: 156.7, Fifties: 3) ; Suryakumar ...', 'India will be led by Rohit Sharma as they aim to bag their second T20 World Cup trophy. Notable players in the squad include Virat Kohli and', \"Here's a summary of their performance in that tournament: India had a fantastic run in the group stage of the 2015 World Cup, winning all of their six matches.\", 'Squad: Rohit Sharma (Captain), Hardik Pandya (Vice Captain), Yashasvi Jaiswal, Virat Kohli, Suryakumar Yadav, Rishabh Pant (WK), Sanju Samson ( ...', \"India's men's cricket team won a nail-biter final game against South Africa in the Twenty20 World Cup match on Saturday, putting an end to ...\", 'Kapil Dev - Captain of 1983 World Cup Team · Mohinder Amarnath - Vice-Captain of 1983 World Cup Team · Sunil Gavaskar · Ravi Shastri · Madan Lal.']\u001b[0m\n",
            "Thought:\u001b[32;1m\u001b[1;3mThought: The Indian cricket team won the world cup in 1983 and 2011. The question asks for the second world cup victory, so the year is 2011. I need to find a list of the players on that team. \n",
            "Action: Search\n",
            "Action Input: India world cup 2011 team players\u001b[0m\n",
            "Observation: \u001b[36;1m\u001b[1;3mThe squad. Mahendra Singh Dhoni (capt & wkt), Virender Sehwag (vice-capt), Ravichandran Ashwin, Piyush Chawla, Gautam Gambhir, Zaheer Khan, Virat Kohli, Ashish Nehra, Munaf Patel, Yusuf Pathan, Suresh Raina, Harbhajan Singh, Yuvraj Singh, Sreesanth, Sachin Tendulkar.\u001b[0m\n",
            "Thought:\u001b[32;1m\u001b[1;3mThought: I now know the answer.\n",
            "Final Answer: India won its second world cup in 2011. The players were Mahendra Singh Dhoni (captain and wicketkeeper), Virender Sehwag (vice-captain), Ravichandran Ashwin, Piyush Chawla, Gautam Gambhir, Zaheer Khan, Virat Kohli, Ashish Nehra, Munaf Patel, Yusuf Pathan, Suresh Raina, Harbhajan Singh, Yuvraj Singh, Sreesanth, and Sachin Tendulkar. \n",
            "\u001b[0m\n",
            "\n",
            "\u001b[1m> Finished chain.\u001b[0m\n"
          ]
        },
        {
          "output_type": "execute_result",
          "data": {
            "text/plain": [
              "'India won its second world cup in 2011. The players were Mahendra Singh Dhoni (captain and wicketkeeper), Virender Sehwag (vice-captain), Ravichandran Ashwin, Piyush Chawla, Gautam Gambhir, Zaheer Khan, Virat Kohli, Ashish Nehra, Munaf Patel, Yusuf Pathan, Suresh Raina, Harbhajan Singh, Yuvraj Singh, Sreesanth, and Sachin Tendulkar.'"
            ],
            "application/vnd.google.colaboratory.intrinsic+json": {
              "type": "string"
            }
          },
          "metadata": {},
          "execution_count": 18
        }
      ]
    },
    {
      "cell_type": "code",
      "source": [
        "agent1.run(\"How much is india's GDP in 2024 plus 5?\")"
      ],
      "metadata": {
        "colab": {
          "base_uri": "https://localhost:8080/",
          "height": 526
        },
        "id": "ncLd_nkBjnjy",
        "outputId": "8494e31d-32ba-4312-dbef-f69609860493"
      },
      "execution_count": null,
      "outputs": [
        {
          "output_type": "stream",
          "name": "stdout",
          "text": [
            "\n",
            "\n",
            "\u001b[1m> Entering new AgentExecutor chain...\u001b[0m\n",
            "\u001b[32;1m\u001b[1;3mThought: I need to search for India's GDP in 2024 and then add 5 to it.\n",
            "Action: Search\n",
            "Action Input: India's GDP in 2024\u001b[0m\n",
            "Observation: \u001b[36;1m\u001b[1;3m{'type': 'organic_result', 'title': 'Economy of India', 'source': 'Wikipedia'}\u001b[0m\n",
            "Thought:\u001b[32;1m\u001b[1;3mThought: I need to search for India's GDP in 2024 and then add 5 to it.\n",
            "Action: Search\n",
            "Action Input: India's GDP in 2024\u001b[0m\n",
            "Observation: \u001b[36;1m\u001b[1;3m{'type': 'organic_result', 'title': 'Economy of India', 'source': 'Wikipedia'}\u001b[0m\n",
            "Thought:\u001b[32;1m\u001b[1;3mThought: I need to find India's GDP in 2024 and then add 5 to it.\n",
            "Action: Search\n",
            "Action Input: India's GDP in 2024\u001b[0m\n",
            "Observation: \u001b[36;1m\u001b[1;3m{'type': 'organic_result', 'title': 'Economy of India', 'source': 'Wikipedia'}\u001b[0m\n",
            "Thought:\u001b[32;1m\u001b[1;3mThought: I need to find India's GDP in 2024 and then add 5 to it.\n",
            "Action: Search\n",
            "Action Input: India's GDP 2024\u001b[0m\n",
            "Observation: \u001b[36;1m\u001b[1;3m$14.59 trillion (PPP; 2024 est.)\u001b[0m\n",
            "Thought:\u001b[32;1m\u001b[1;3mThought: I need to extract the numerical value from the observation and add 5 to it.\n",
            "Action: Calculator\n",
            "Action Input: 14.59 trillion + 5\u001b[0m\n",
            "Observation: \u001b[33;1m\u001b[1;3mAnswer: 14590000000005.0\u001b[0m\n",
            "Thought:\u001b[32;1m\u001b[1;3mThought: I now know the final answer\n",
            "Final Answer: India's GDP in 2024 plus 5 is 14,590,000,000,005.\u001b[0m\n",
            "\n",
            "\u001b[1m> Finished chain.\u001b[0m\n"
          ]
        },
        {
          "output_type": "execute_result",
          "data": {
            "text/plain": [
              "\"India's GDP in 2024 plus 5 is 14,590,000,000,005.\""
            ],
            "application/vnd.google.colaboratory.intrinsic+json": {
              "type": "string"
            }
          },
          "metadata": {},
          "execution_count": 23
        }
      ]
    },
    {
      "cell_type": "code",
      "source": [
        "agent1.run(\"who won the india's 2024 general election?\")"
      ],
      "metadata": {
        "colab": {
          "base_uri": "https://localhost:8080/",
          "height": 509
        },
        "id": "1AC-GjCpj8hx",
        "outputId": "00eab77c-30ed-4ec5-ce38-23204495c91f"
      },
      "execution_count": null,
      "outputs": [
        {
          "output_type": "stream",
          "name": "stdout",
          "text": [
            "\n",
            "\n",
            "\u001b[1m> Entering new AgentExecutor chain...\u001b[0m\n",
            "\u001b[32;1m\u001b[1;3mThought: I need to search for the results of India's 2024 general election.\n",
            "Action: Search\n",
            "Action Input: India 2024 general election results\u001b[0m\n",
            "Observation: \u001b[36;1m\u001b[1;3m[{'title': 'UK election results 2024: Why do some popular parties win so few seats?', 'link': 'https://www.aljazeera.com/news/2024/7/5/uk-general-election-2024-why-do-some-popular-parties-win-so-few-seats', 'source': 'Al Jazeera', 'date': '1 day ago', 'thumbnail': 'https://serpapi.com/searches/668974e23bea7bb292e38bbd/images/088ecbb36d17e2e9b2af24e6cbd99563d9dd4379a664f0a3.jpeg'}, {'title': 'UK Election: Record Number Of Indian-Origin MPs Elected To British Parliament', 'link': 'https://www.ndtv.com/world-news/2024-uk-election-result-record-number-of-indian-origin-mps-elected-to-british-parliament-6039751', 'source': 'NDTV', 'date': '1 day ago', 'thumbnail': 'https://serpapi.com/searches/668974e23bea7bb292e38bbd/images/088ecbb36d17e2e9c57d25cdee3c886570296e589812c4db.jpeg'}, {'title': 'India election 2024: Why Modi failed to win outright majority', 'link': 'https://www.bbc.com/news/articles/c977g8gl5q2o', 'source': 'BBC', 'date': '1 month ago', 'thumbnail': 'https://serpapi.com/searches/668974e23bea7bb292e38bbd/images/088ecbb36d17e2e9a377cccfd23a828d5a1c207c1538c7cb.jpeg'}, {'title': 'Narendra Modi set to lose parliamentary majority in shock Indian election result', 'link': 'https://www.ft.com/content/1de49cb9-db2c-446f-8ee4-9bdbb4a7625b', 'source': 'Financial Times', 'date': '1 month ago', 'thumbnail': 'https://serpapi.com/searches/668974e23bea7bb292e38bbd/images/088ecbb36d17e2e9e4ee3b41417d04aa642be6a0ad925cb7.jpeg'}]\u001b[0m\n",
            "Thought:\u001b[32;1m\u001b[1;3mThought: I see that Narendra Modi did not win an outright majority, but I need to find out who did win the election. \n",
            "Action: Search\n",
            "Action Input: Winner of India 2024 general election \u001b[0m"
          ]
        },
        {
          "output_type": "stream",
          "name": "stderr",
          "text": [
            "WARNING:langchain_google_genai.chat_models:Retrying langchain_google_genai.chat_models._chat_with_retry.<locals>._chat_with_retry in 2.0 seconds as it raised ResourceExhausted: 429 Resource has been exhausted (e.g. check quota)..\n"
          ]
        },
        {
          "output_type": "stream",
          "name": "stdout",
          "text": [
            "\n",
            "Observation: \u001b[36;1m\u001b[1;3m[{'title': 'UK election results 2024: Why do some popular parties win so few seats?', 'link': 'https://www.aljazeera.com/news/2024/7/5/uk-general-election-2024-why-do-some-popular-parties-win-so-few-seats', 'source': 'Al Jazeera', 'date': '1 day ago', 'thumbnail': 'https://serpapi.com/searches/668974e866440ad81cc57937/images/4477abfcefdb5d286d0211a312bf5fefc549d22ca138476d.jpeg'}, {'title': 'UK General Election 2024: All you need to know about the polling today', 'link': 'https://indianexpress.com/article/world/uk-general-election-2024-all-you-need-to-know-about-polls-day-9431030/', 'source': 'The Indian Express', 'date': '2 days ago', 'thumbnail': 'https://serpapi.com/searches/668974e866440ad81cc57937/images/4477abfcefdb5d28f64a17d290a633ec3feafe06441703c1.jpeg'}, {'title': 'India election 2024: Why Modi failed to win outright majority', 'link': 'https://www.bbc.com/news/articles/c977g8gl5q2o', 'source': 'BBC', 'date': '1 month ago', 'thumbnail': 'https://serpapi.com/searches/668974e866440ad81cc57937/images/4477abfcefdb5d287d5138d7293233cfb68cf05c329619fa.jpeg'}, {'title': 'India election results 2024: Modi claims victory but falls short of full majority', 'link': 'https://apnews.com/article/india-election-results-2024-lok-sabha-modi-bjp-7893efecc83fa8225a611f174e6420ee', 'source': 'AP News', 'date': '1 month ago', 'thumbnail': 'https://serpapi.com/searches/668974e866440ad81cc57937/images/4477abfcefdb5d28f68bd24c3da47c5f34262079ae648305.jpeg'}]\u001b[0m\n",
            "Thought:\u001b[32;1m\u001b[1;3mThought: The search results do not explicitly state who won the election, only that Modi did not win an outright majority.\n",
            "Action: Search\n",
            "Action Input: \"Indian general election 2024 winning party\"\u001b[0m"
          ]
        },
        {
          "output_type": "stream",
          "name": "stderr",
          "text": [
            "WARNING:langchain_google_genai.chat_models:Retrying langchain_google_genai.chat_models._chat_with_retry.<locals>._chat_with_retry in 2.0 seconds as it raised ResourceExhausted: 429 Resource has been exhausted (e.g. check quota)..\n"
          ]
        },
        {
          "output_type": "stream",
          "name": "stdout",
          "text": [
            "\n",
            "Observation: \u001b[36;1m\u001b[1;3m['General elections were held in India from 19 April to 1 June 2024 in seven phases, to elect all 543 members of the Lok Sabha. Votes were counted and the ...', \"Prime Minister Narendra Modi's National Democratic Alliance coalition has won a majority in parliament, according to official results from ...\", 'The governing Bharatiya Janata Party (BJP) of Prime Minister Narendra Modi won 240 seats, falling short of the 272-mark that signifies a ...', \"Prime Minister Narendra Modi will serve a third term in office after India's election authority confirmed the National Democratic Alliance coalition headed ...\", \"Modi's Bharatiya Janata Party, or B.J.P., would still win by far the most parliamentary seats, and that he would become only the second Indian ...\", 'The Bharatiya Janata Party, together with its National Democratic Alliance, has won a majority.', 'Prime Minister Narendra Modi and his Bharatiya Janata Party (BJP) won the most seats for the third consecutive time, but have fallen short of a ...', \"The results of India's general elections to constitute 18th Lok Sabha, held in April–June 2024 were announced on 4th and 5th June 2024.\", 'Results of the Indian general elections were out on Tuesday with the National Democratic Alliance (NDA), led by the Bharatiya Janata Party (BJP) ...']\u001b[0m\n",
            "Thought:"
          ]
        },
        {
          "output_type": "stream",
          "name": "stderr",
          "text": [
            "WARNING:langchain_google_genai.chat_models:Retrying langchain_google_genai.chat_models._chat_with_retry.<locals>._chat_with_retry in 4.0 seconds as it raised ResourceExhausted: 429 Resource has been exhausted (e.g. check quota)..\n",
            "WARNING:langchain_google_genai.chat_models:Retrying langchain_google_genai.chat_models._chat_with_retry.<locals>._chat_with_retry in 8.0 seconds as it raised ResourceExhausted: 429 Resource has been exhausted (e.g. check quota)..\n",
            "WARNING:langchain_google_genai.chat_models:Retrying langchain_google_genai.chat_models._chat_with_retry.<locals>._chat_with_retry in 16.0 seconds as it raised ResourceExhausted: 429 Resource has been exhausted (e.g. check quota)..\n"
          ]
        },
        {
          "output_type": "stream",
          "name": "stdout",
          "text": [
            "\u001b[32;1m\u001b[1;3mThought: I see that the National Democratic Alliance (NDA) won a majority in India's 2024 general election.\n",
            "Final Answer: The National Democratic Alliance (NDA) won India's 2024 general election. \n",
            "\u001b[0m\n",
            "\n",
            "\u001b[1m> Finished chain.\u001b[0m\n"
          ]
        },
        {
          "output_type": "execute_result",
          "data": {
            "text/plain": [
              "\"The National Democratic Alliance (NDA) won India's 2024 general election.\""
            ],
            "application/vnd.google.colaboratory.intrinsic+json": {
              "type": "string"
            }
          },
          "metadata": {},
          "execution_count": 24
        }
      ]
    },
    {
      "cell_type": "code",
      "source": [
        "agent1.run(\"how much seat BJP won in india's general election in 2024 plus 10000?\")"
      ],
      "metadata": {
        "colab": {
          "base_uri": "https://localhost:8080/",
          "height": 346
        },
        "id": "7azOOy7JkSci",
        "outputId": "e0b011a3-c21f-459b-ed07-f5413113d07f"
      },
      "execution_count": null,
      "outputs": [
        {
          "output_type": "stream",
          "name": "stdout",
          "text": [
            "\n",
            "\n",
            "\u001b[1m> Entering new AgentExecutor chain...\u001b[0m\n",
            "\u001b[32;1m\u001b[1;3mThought: I need to find out how many seats BJP won in the 2024 Indian general election and then add 10000 to that number.\n",
            "Action: Search\n",
            "Action Input: How many seats did BJP win in India's 2024 general election?\u001b[0m\n",
            "Observation: \u001b[36;1m\u001b[1;3m[\"Prime Minister Narendra Modi's National Democratic Alliance coalition has won a majority in parliament, according to official results from ...\", 'The governing Bharatiya Janata Party (BJP) of Prime Minister Narendra Modi won 240 seats, falling short of the 272-mark that signifies a ...', 'General elections were held in India from 19 April to 1 June 2024 in seven phases, to elect all 543 members of the Lok Sabha. Votes were counted and the ...', 'Indian PM Narendra Modi has won a third consecutive term in a much tighter general election than anticipated. His Bharatiya Janata Party (BJP) ...', 'The Bharatiya Janata Party, together with its National Democratic Alliance, has won a majority.', 'Election results show Indian Prime Minister Narendra Modi set to continue his long reign, but with a smaller mandate than predicted.', \"Prime Minister Narendra Modi will serve a third term in office after India's election authority confirmed the National Democratic Alliance coalition headed ...\", 'Results of the Indian general elections were out on Tuesday with the National Democratic Alliance (NDA), led by the Bharatiya Janata Party (BJP) ...', \"See results and maps from India's 2024 Lok Sabha elections.\", 'Indian Prime Minister Narendra Modi looked set on Tuesday to retain power at the head of a ruling coalition but his Hindu nationalist party ...']\u001b[0m\n",
            "Thought:\u001b[32;1m\u001b[1;3mThought: The search results indicate that the BJP won 240 seats in the 2024 Indian general election. Now I need to add 10000 to that number.\n",
            "Action: Calculator\n",
            "Action Input: 240 + 10000\u001b[0m\n",
            "Observation: \u001b[33;1m\u001b[1;3mAnswer: 10240\u001b[0m\n",
            "Thought:\u001b[32;1m\u001b[1;3mThought: I now know the final answer\n",
            "Final Answer: The BJP won 240 seats in the 2024 Indian general election. Adding 10000 to that number gives us 10240. \n",
            "\u001b[0m\n",
            "\n",
            "\u001b[1m> Finished chain.\u001b[0m\n"
          ]
        },
        {
          "output_type": "execute_result",
          "data": {
            "text/plain": [
              "'The BJP won 240 seats in the 2024 Indian general election. Adding 10000 to that number gives us 10240.'"
            ],
            "application/vnd.google.colaboratory.intrinsic+json": {
              "type": "string"
            }
          },
          "metadata": {},
          "execution_count": 25
        }
      ]
    },
    {
      "cell_type": "code",
      "source": [
        "!pip install wikipedia"
      ],
      "metadata": {
        "colab": {
          "base_uri": "https://localhost:8080/"
        },
        "id": "UFyTcG9tkj1h",
        "outputId": "808624a6-731d-4378-bdf9-3e9124643eaf"
      },
      "execution_count": null,
      "outputs": [
        {
          "output_type": "stream",
          "name": "stdout",
          "text": [
            "Collecting wikipedia\n",
            "  Downloading wikipedia-1.4.0.tar.gz (27 kB)\n",
            "  Preparing metadata (setup.py) ... \u001b[?25l\u001b[?25hdone\n",
            "Requirement already satisfied: beautifulsoup4 in /usr/local/lib/python3.10/dist-packages (from wikipedia) (4.12.3)\n",
            "Requirement already satisfied: requests<3.0.0,>=2.0.0 in /usr/local/lib/python3.10/dist-packages (from wikipedia) (2.31.0)\n",
            "Requirement already satisfied: charset-normalizer<4,>=2 in /usr/local/lib/python3.10/dist-packages (from requests<3.0.0,>=2.0.0->wikipedia) (3.3.2)\n",
            "Requirement already satisfied: idna<4,>=2.5 in /usr/local/lib/python3.10/dist-packages (from requests<3.0.0,>=2.0.0->wikipedia) (3.7)\n",
            "Requirement already satisfied: urllib3<3,>=1.21.1 in /usr/local/lib/python3.10/dist-packages (from requests<3.0.0,>=2.0.0->wikipedia) (2.0.7)\n",
            "Requirement already satisfied: certifi>=2017.4.17 in /usr/local/lib/python3.10/dist-packages (from requests<3.0.0,>=2.0.0->wikipedia) (2024.6.2)\n",
            "Requirement already satisfied: soupsieve>1.2 in /usr/local/lib/python3.10/dist-packages (from beautifulsoup4->wikipedia) (2.5)\n",
            "Building wheels for collected packages: wikipedia\n",
            "  Building wheel for wikipedia (setup.py) ... \u001b[?25l\u001b[?25hdone\n",
            "  Created wheel for wikipedia: filename=wikipedia-1.4.0-py3-none-any.whl size=11680 sha256=7d5124ea393a44b9c8c0341e68d32afff5bd6020e59115aea06b151011fe98ed\n",
            "  Stored in directory: /root/.cache/pip/wheels/5e/b6/c5/93f3dec388ae76edc830cb42901bb0232504dfc0df02fc50de\n",
            "Successfully built wikipedia\n",
            "Installing collected packages: wikipedia\n",
            "Successfully installed wikipedia-1.4.0\n"
          ]
        }
      ]
    },
    {
      "cell_type": "code",
      "source": [
        "tool = load_tools([\"wikipedia\",\"llm-math\"],llm=llm)"
      ],
      "metadata": {
        "id": "cMGuYUREl5dS"
      },
      "execution_count": null,
      "outputs": []
    },
    {
      "cell_type": "code",
      "source": [
        "agent = initialize_agent(\n",
        "    tool,\n",
        "    llm,\n",
        "    agent=AgentType.ZERO_SHOT_REACT_DESCRIPTION,\n",
        "    verbose=True,\n",
        "\n",
        ")"
      ],
      "metadata": {
        "id": "vpNgOgGzmBaI"
      },
      "execution_count": null,
      "outputs": []
    },
    {
      "cell_type": "code",
      "source": [
        "agent.run(\"in which year first indian film released?\")"
      ],
      "metadata": {
        "colab": {
          "base_uri": "https://localhost:8080/",
          "height": 745
        },
        "id": "s4BIaFK9mJ1h",
        "outputId": "7005234c-35ec-44e6-bcc2-18932fd34d1a"
      },
      "execution_count": null,
      "outputs": [
        {
          "output_type": "stream",
          "name": "stderr",
          "text": [
            "WARNING:langchain_google_genai.chat_models:Retrying langchain_google_genai.chat_models._chat_with_retry.<locals>._chat_with_retry in 2.0 seconds as it raised ResourceExhausted: 429 Resource has been exhausted (e.g. check quota)..\n"
          ]
        },
        {
          "output_type": "stream",
          "name": "stdout",
          "text": [
            "\n",
            "\n",
            "\u001b[1m> Entering new AgentExecutor chain...\u001b[0m\n",
            "\u001b[32;1m\u001b[1;3mThought: I need to search for the first Indian film on Wikipedia.\n",
            "Action: wikipedia\n",
            "Action Input: first Indian film\u001b[0m"
          ]
        },
        {
          "output_type": "stream",
          "name": "stderr",
          "text": [
            "WARNING:langchain_google_genai.chat_models:Retrying langchain_google_genai.chat_models._chat_with_retry.<locals>._chat_with_retry in 2.0 seconds as it raised ResourceExhausted: 429 Resource has been exhausted (e.g. check quota)..\n"
          ]
        },
        {
          "output_type": "stream",
          "name": "stdout",
          "text": [
            "\n",
            "Observation: \u001b[36;1m\u001b[1;3mPage: Cinema of India\n",
            "Summary: The Cinema of India, consisting of motion pictures made by the Indian film industry, has had a large effect on world cinema since the second half of the 20th century. Indian cinema is made up of various film industries, including Hindi cinema, which makes motion pictures in the Hindi language and is one of the biggest film industries in the country. In 2021, Telugu cinema emerged as the largest film industry in India in terms of box office. Major centers of film production across the country include Mumbai, Hyderabad, Chennai, Kolkata, Kochi, Bangalore, Bhubaneswar-Cuttack, and Guwahati. For a number of years, the Indian film industry has ranked first in the world in terms of annual film output. In 2022, Indian cinema earned ₹15,000 crore ($1.7955 billion) at the box-office. Ramoji Film City located in Hyderabad, India is certified by the Guinness World Records as the largest film studio complex in the world measuring over 1,666 acres (674 ha).\n",
            "Indian cinema is composed of multilingual and multi-ethnic film art. In 2022, Hindi cinema represented 33% of box office revenue, followed by Telugu representing 20%, Tamil representing 16%, Kannada representing 8%, and Malayalam representing 6%. Other prominent film industries are Bengali, Marathi, Odia, Punjabi, Gujarati, and Bhojpuri cinema. As of 2022, the combined revenue of South Indian film industries have surpassed that of the Mumbai-based Hindi-language film industry (Bollywood). As of 2022, Telugu cinema leads Indian cinema's box-office revenue.\n",
            "Indian cinema is a global enterprise, and its films have attracted international attention and acclaim throughout South Asia. Since the inception of Indian cinema in 1913, Hindi cinema enjoyed the position of top film industry, but in recent years it has faced stiff competition from Telugu cinema. Overseas Indians account for 12% of the industry's revenue.\n",
            "\n",
            "Page: RRR\n",
            "Summary: RRR (subtitled onscreen as Roudram Ranam Rudhiram) is a 2022 Indian Telugu-language epic period action drama film directed by S. S. Rajamouli, who co-wrote the film with V. Vijayendra Prasad. It was produced by D. V. V. Danayya of DVV Entertainment. The film stars N. T. Rama Rao Jr., Ram Charan, Ajay Devgn, Alia Bhatt, Shriya Saran, Samuthirakani, Ray Stevenson, Alison Doody, and Olivia Morris. It is a historical fiction film about two Indian revolutionaries, Alluri Sitarama Raju (Charan) and Komaram Bheem (Rama Rao), their friendship, and their fight against the British Raj.\n",
            "Made on a budget of ₹550 crore (US$69 million), RRR is the second-most expensive Indian film to date. The film was released theatrically on 25 March 2022. With ₹223 crore (US$27 million) worldwide on its first day, RRR recorded the highest opening-day earned by an Indian film. It emerged as the highest-grossing film in its home market of Andhra Pradesh and Telangana, grossing over ₹405.9 crore (US$49 million). The film grossed ₹1,387.26 crore (US$170 million)  worldwide, setting several box office records for an Indian film, including the third highest-grossing Indian film, the second highest-grossing Telugu film, the highest grossing Telugu film of 2022 and the highest grossing Indian film of 2022 worldwide.\n",
            "RRR received universal critical acclaim for its direction, screenwriting, cast performances, cinematography, soundtrack, action sequences and VFX. The film was considered one of the ten best films of the year by the National Board of Review, making it only the seventh non-English language film ever to make it to the list. The song \"Naatu Naatu\" won the Oscar for Best Original Song at the 95th Academy Awards, making it the first song from an Indian film, as well as the first from an Asian film, to win in this category. This made the film the first Indian film by an Indian production to win an Academy Award. The film became the third Indian film and first Telugu film to receive nominations at the Golden Globe Awards, including Best Foreign Language Film, and \u001b[0m\n",
            "Thought:\u001b[32;1m\u001b[1;3mThought: The summary of Indian cinema mentions the year.\n",
            "Action: wikipedia\n",
            "Action Input: Indian cinema\u001b[0m\n",
            "Observation: \u001b[36;1m\u001b[1;3mPage: Cinema of India\n",
            "Summary: The Cinema of India, consisting of motion pictures made by the Indian film industry, has had a large effect on world cinema since the second half of the 20th century. Indian cinema is made up of various film industries, including Hindi cinema, which makes motion pictures in the Hindi language and is one of the biggest film industries in the country. In 2021, Telugu cinema emerged as the largest film industry in India in terms of box office. Major centers of film production across the country include Mumbai, Hyderabad, Chennai, Kolkata, Kochi, Bangalore, Bhubaneswar-Cuttack, and Guwahati. For a number of years, the Indian film industry has ranked first in the world in terms of annual film output. In 2022, Indian cinema earned ₹15,000 crore ($1.7955 billion) at the box-office. Ramoji Film City located in Hyderabad, India is certified by the Guinness World Records as the largest film studio complex in the world measuring over 1,666 acres (674 ha).\n",
            "Indian cinema is composed of multilingual and multi-ethnic film art. In 2022, Hindi cinema represented 33% of box office revenue, followed by Telugu representing 20%, Tamil representing 16%, Kannada representing 8%, and Malayalam representing 6%. Other prominent film industries are Bengali, Marathi, Odia, Punjabi, Gujarati, and Bhojpuri cinema. As of 2022, the combined revenue of South Indian film industries have surpassed that of the Mumbai-based Hindi-language film industry (Bollywood). As of 2022, Telugu cinema leads Indian cinema's box-office revenue.\n",
            "Indian cinema is a global enterprise, and its films have attracted international attention and acclaim throughout South Asia. Since the inception of Indian cinema in 1913, Hindi cinema enjoyed the position of top film industry, but in recent years it has faced stiff competition from Telugu cinema. Overseas Indians account for 12% of the industry's revenue.\n",
            "\n",
            "Page: Raj Kapoor\n",
            "Summary: Raj Kapoor (pronounced [raːdʒ kəˈpuːɾ]; born Shrishti Nath Kapoor; 14 December 1924 – 2 June 1988), also known as Ranbir Raj Kapoor, was an Indian actor, film director and producer, who worked in Hindi cinema. He is considered one of the greatest and most influential actors and filmmakers in the history of Indian cinema, and has been referred to as The Greatest Showman of Indian Cinema and as the Charlie Chaplin of Indian Cinema.\n",
            "Born in Peshawar as the eldest son of Prithviraj Kapoor of the Kapoor family, Raj Kapoor starred in and produced many films for which he received multiple accolades, including three National Film Awards and 11 Filmfare Awards in India. He was inspired by Charlie Chaplin and played characters based on The Tramp in films such as Awaara (1951) and Shree 420 (1955). His performance in Awaara was ranked as one of the \"Top-Ten Greatest Performances of All Time in World Cinema\" by Time magazine in 2005. His films Awaara (1951) and Boot Polish (1954) competed for the Palme d'Or prize at the Cannes Film Festival in 1951 and 1955's editions respectively.\n",
            "His films were global commercial successes in parts of Asia, the Middle East, the Caribbean, Africa, and the Soviet bloc. The Government of India honoured him with the Padma Bhushan in 1971 for his contributions to the arts. India's highest award in cinema, the Dadasaheb Phalke Award, was bestowed to him in 1987 by the Government of India.\n",
            "\n",
            "Page: Cinema of South India\n",
            "Summary: Cinema of South India, refers to the cinema of the four major film industries in South India; primarily engaged in making feature films in the four major languages of the region, namely — Telugu, Tamil, Kannada and Malayalam. They are often colloquially referred to as Tollywood, Kollywood, Sandalwood and Mollywood, respectively.\n",
            "Although the four industries developed independently for a long period of time, gross exchange of artists and technicians, as well as globalisation helped to shape this new identity. By 2010, South India became the home for 6320, or about 62% of the 10,167 cinema \u001b[0m\n",
            "Thought:\u001b[32;1m\u001b[1;3mThought: I found the answer in the summary of Indian cinema.\n",
            "Final Answer: 1913 \n",
            "\u001b[0m\n",
            "\n",
            "\u001b[1m> Finished chain.\u001b[0m\n"
          ]
        },
        {
          "output_type": "execute_result",
          "data": {
            "text/plain": [
              "'1913'"
            ],
            "application/vnd.google.colaboratory.intrinsic+json": {
              "type": "string"
            }
          },
          "metadata": {},
          "execution_count": 29
        }
      ]
    },
    {
      "cell_type": "code",
      "source": [
        "agent.run(\"give me a detail analysis of indian election 2024\")"
      ],
      "metadata": {
        "colab": {
          "base_uri": "https://localhost:8080/",
          "height": 818
        },
        "id": "m-RfF1F7mc9E",
        "outputId": "305edc2f-cc86-45dd-faad-f564cb286116"
      },
      "execution_count": null,
      "outputs": [
        {
          "output_type": "stream",
          "name": "stdout",
          "text": [
            "\n",
            "\n",
            "\u001b[1m> Entering new AgentExecutor chain...\u001b[0m\n",
            "\u001b[32;1m\u001b[1;3mThought: I need more information to provide a detailed analysis of the Indian election in 2024. It's too early for concrete data. I can give some general information about Indian elections. \n",
            "Action: wikipedia\n",
            "Action Input: Indian general elections\u001b[0m\n",
            "Observation: \u001b[36;1m\u001b[1;3mPage: 2024 Indian general election\n",
            "Summary: General elections were held in India from 19 April to 1 June 2024 in seven phases, to elect all 543 members of the Lok Sabha. Votes were counted and the result was declared on 4 June to form the 18th Lok Sabha. On 7 June 2024, Prime Minister Narendra Modi confirmed the support of 293 MPs to Droupadi Murmu, the president of India. This marked Modi's third term as prime minister and his first time heading a coalition government, with the Telugu Desam Party of Andhra Pradesh and Janata Dal (United) of Bihar emerging as two main allies.\n",
            "More than 968 million people out of a population of 1.4 billion people were eligible to vote, equivalent to 70 percent of the total population. 642 million voters participated in the election and 312 million of them were women, making it the highest ever participation by women voters. This was the largest-ever election, surpassing the previous election, and lasted 44 days, second only to the 1951–52 Indian general election.  The legislative assembly elections in the states of Andhra Pradesh, Arunachal Pradesh, Odisha, and Sikkim were held simultaneously with the general election, along with the by-elections for 25 constituencies in 12 legislative assemblies.\n",
            "Incumbent prime minister Narendra Modi, who completed a second term, ran for a third consecutive term after his Bharatiya Janata Party (BJP) had enjoyed an absolute majority—a minimum of 272 seats—in the 2019 and 2014 elections. The primary opposition was the Indian National Developmental Inclusive Alliance (INDIA), a coalition formed by the Indian National Congress (INC) and many regional parties in 2023. The election was criticised for lack of action on hate speeches by Modi's BJP, reported electronic voting machine (EVM) malfunctioning, and suppression of political opponents of the BJP.\n",
            "Opinion surveys of mainstream media outlets projected a decisive victory for the BJP and its coalition, the National Democratic Alliance (NDA). However, the BJP won 240 seats, down from the 303 seats it had secured in 2019, and lost its singular majority in the Lok Sabha, whereas the overall NDA secured 293 of the house's 543 seats. The INDIA coalition outperformed expectations, securing 234 seats, 99 of which were won by the Congress, garnering the party the official opposition status for the first time in 10 years. Seven independents and ten candidates from non-aligned parties also won seats in the Lok Sabha.\n",
            "\n",
            "Page: 2019 Indian general election\n",
            "Summary: General elections were held in India in seven phases from 11 April to 19 May 2019 to elect the members of the 17th Lok Sabha. Votes were counted and the result was declared on 23 May.  Around 912 million people were eligible to vote, and voter turnout was over 67 per cent – the highest ever, as well as the highest ever participation by women voters until 2024 Indian general election.\n",
            "The Bharatiya Janata Party received 37.36% of the vote, the highest vote share by a political party since the 1989 general election, and won 303 seats, further increasing its substantial majority. In addition, the BJP-led National Democratic Alliance (NDA) won 353 seats. The BJP won 37.76% of votes, while the NDA's combined vote was 45% of the 603.7 million votes that were polled. The Indian National Congress won 52 seats, failing to get 10% of the seats needed to claim the post of Leader of the Opposition. In addition, the Congress-led United Progressive Alliance (UPA) won 91 seats, while other parties won 98 seats.\n",
            "Legislative assembly elections in the states of Andhra Pradesh, Arunachal Pradesh, Odisha and Sikkim were held simultaneously with the general election, as well as by-elections of twenty-two seats of the Tamil Nadu Legislative Assembly.\n",
            "\n",
            "Page: 2014 Indian general election\n",
            "Summary: General elections were held in India in nine phases from 7 April to 12 May 2014 to elect the members of the 16th Lok Sabha. With 834 million registered voters, they were the largest-ever election\u001b[0m\n",
            "Thought:\u001b[32;1m\u001b[1;3mThought: I need more information to provide a detailed analysis of the Indian election in 2024. It's too early for concrete data. I can give some general information about Indian elections. \n",
            "Action: wikipedia\n",
            "Action Input: Indian general elections\u001b[0m\n",
            "Observation: \u001b[36;1m\u001b[1;3mPage: 2024 Indian general election\n",
            "Summary: General elections were held in India from 19 April to 1 June 2024 in seven phases, to elect all 543 members of the Lok Sabha. Votes were counted and the result was declared on 4 June to form the 18th Lok Sabha. On 7 June 2024, Prime Minister Narendra Modi confirmed the support of 293 MPs to Droupadi Murmu, the president of India. This marked Modi's third term as prime minister and his first time heading a coalition government, with the Telugu Desam Party of Andhra Pradesh and Janata Dal (United) of Bihar emerging as two main allies.\n",
            "More than 968 million people out of a population of 1.4 billion people were eligible to vote, equivalent to 70 percent of the total population. 642 million voters participated in the election and 312 million of them were women, making it the highest ever participation by women voters. This was the largest-ever election, surpassing the previous election, and lasted 44 days, second only to the 1951–52 Indian general election.  The legislative assembly elections in the states of Andhra Pradesh, Arunachal Pradesh, Odisha, and Sikkim were held simultaneously with the general election, along with the by-elections for 25 constituencies in 12 legislative assemblies.\n",
            "Incumbent prime minister Narendra Modi, who completed a second term, ran for a third consecutive term after his Bharatiya Janata Party (BJP) had enjoyed an absolute majority—a minimum of 272 seats—in the 2019 and 2014 elections. The primary opposition was the Indian National Developmental Inclusive Alliance (INDIA), a coalition formed by the Indian National Congress (INC) and many regional parties in 2023. The election was criticised for lack of action on hate speeches by Modi's BJP, reported electronic voting machine (EVM) malfunctioning, and suppression of political opponents of the BJP.\n",
            "Opinion surveys of mainstream media outlets projected a decisive victory for the BJP and its coalition, the National Democratic Alliance (NDA). However, the BJP won 240 seats, down from the 303 seats it had secured in 2019, and lost its singular majority in the Lok Sabha, whereas the overall NDA secured 293 of the house's 543 seats. The INDIA coalition outperformed expectations, securing 234 seats, 99 of which were won by the Congress, garnering the party the official opposition status for the first time in 10 years. Seven independents and ten candidates from non-aligned parties also won seats in the Lok Sabha.\n",
            "\n",
            "Page: 2019 Indian general election\n",
            "Summary: General elections were held in India in seven phases from 11 April to 19 May 2019 to elect the members of the 17th Lok Sabha. Votes were counted and the result was declared on 23 May.  Around 912 million people were eligible to vote, and voter turnout was over 67 per cent – the highest ever, as well as the highest ever participation by women voters until 2024 Indian general election.\n",
            "The Bharatiya Janata Party received 37.36% of the vote, the highest vote share by a political party since the 1989 general election, and won 303 seats, further increasing its substantial majority. In addition, the BJP-led National Democratic Alliance (NDA) won 353 seats. The BJP won 37.76% of votes, while the NDA's combined vote was 45% of the 603.7 million votes that were polled. The Indian National Congress won 52 seats, failing to get 10% of the seats needed to claim the post of Leader of the Opposition. In addition, the Congress-led United Progressive Alliance (UPA) won 91 seats, while other parties won 98 seats.\n",
            "Legislative assembly elections in the states of Andhra Pradesh, Arunachal Pradesh, Odisha and Sikkim were held simultaneously with the general election, as well as by-elections of twenty-two seats of the Tamil Nadu Legislative Assembly.\n",
            "\n",
            "Page: 2014 Indian general election\n",
            "Summary: General elections were held in India in nine phases from 7 April to 12 May 2014 to elect the members of the 16th Lok Sabha. With 834 million registered voters, they were the largest-ever election\u001b[0m\n",
            "Thought:\u001b[32;1m\u001b[1;3mThought: The 2024 Indian general election already happened. I can provide a summary of the results.\n",
            "Final Answer: The 2024 Indian general election took place from April 19th to June 1st, 2024, with Narendra Modi's BJP-led NDA securing victory and Modi elected for a third term as Prime Minister. While the NDA won, forming a coalition government, the BJP itself lost its single-party majority, securing 240 seats compared to 303 in 2019. The opposition INDIA coalition won 234 seats, making significant gains.  \n",
            "\u001b[0m\n",
            "\n",
            "\u001b[1m> Finished chain.\u001b[0m\n"
          ]
        },
        {
          "output_type": "execute_result",
          "data": {
            "text/plain": [
              "\"The 2024 Indian general election took place from April 19th to June 1st, 2024, with Narendra Modi's BJP-led NDA securing victory and Modi elected for a third term as Prime Minister. While the NDA won, forming a coalition government, the BJP itself lost its single-party majority, securing 240 seats compared to 303 in 2019. The opposition INDIA coalition won 234 seats, making significant gains.\""
            ],
            "application/vnd.google.colaboratory.intrinsic+json": {
              "type": "string"
            }
          },
          "metadata": {},
          "execution_count": 31
        }
      ]
    },
    {
      "cell_type": "markdown",
      "source": [
        "The 2024 Indian general election was held in seven phases from 19 April to 1 June 2024 to elect all 543 members of the Lok Sabha. Narendra Modi secured his third term as prime minister, leading a coalition government with the support of 293 MPs. The election saw a record number of eligible voters and high participation, with the BJP losing its majority in the Lok Sabha."
      ],
      "metadata": {
        "id": "0FaL0s_pnVm2"
      }
    },
    {
      "cell_type": "code",
      "source": [],
      "metadata": {
        "id": "088elPVvnSU6"
      },
      "execution_count": null,
      "outputs": []
    }
  ]
}